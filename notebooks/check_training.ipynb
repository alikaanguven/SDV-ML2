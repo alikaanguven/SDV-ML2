{
 "cells": [
  {
   "cell_type": "code",
   "execution_count": 1,
   "metadata": {},
   "outputs": [],
   "source": [
    "import torch\n",
    "from torch.profiler import profile, ProfilerActivity\n",
    "import pandas as pd"
   ]
  },
  {
   "cell_type": "code",
   "execution_count": 16,
   "metadata": {},
   "outputs": [],
   "source": [
    "tb_file = '/users/alikaan.gueven/SDV-ML/ParticleTransformer/SDV-ML/training/tb/clip-g1-1.cbe.vbc.ac.at_26141.1754660426202800162.pt.trace.json'"
   ]
  },
  {
   "cell_type": "code",
   "execution_count": 17,
   "metadata": {},
   "outputs": [],
   "source": [
    "import json\n",
    "\n",
    "with open(tb_file, 'r') as f:\n",
    "    data = json.load(f)"
   ]
  },
  {
   "cell_type": "code",
   "execution_count": 18,
   "metadata": {},
   "outputs": [],
   "source": [
    "# data"
   ]
  },
  {
   "cell_type": "code",
   "execution_count": 19,
   "metadata": {},
   "outputs": [
    {
     "name": "stdout",
     "output_type": "stream",
     "text": [
      "GPU active time : 2,154.7 ms\n",
      "Trace span      : 2,032.0 ms\n",
      "≈ Utilisation   : 106.0 %\n"
     ]
    },
    {
     "data": {
      "text/html": [
       "<style type=\"text/css\">\n",
       "</style>\n",
       "<table id=\"T_71d87\">\n",
       "  <thead>\n",
       "    <tr>\n",
       "      <th class=\"blank level0\" >&nbsp;</th>\n",
       "      <th id=\"T_71d87_level0_col0\" class=\"col_heading level0 col0\" >cat</th>\n",
       "      <th id=\"T_71d87_level0_col1\" class=\"col_heading level0 col1\" >name</th>\n",
       "      <th id=\"T_71d87_level0_col2\" class=\"col_heading level0 col2\" >ms</th>\n",
       "    </tr>\n",
       "  </thead>\n",
       "  <tbody>\n",
       "    <tr>\n",
       "      <th id=\"T_71d87_level0_row0\" class=\"row_heading level0 row0\" >0</th>\n",
       "      <td id=\"T_71d87_row0_col0\" class=\"data row0 col0\" >cuda_runtime</td>\n",
       "      <td id=\"T_71d87_row0_col1\" class=\"data row0 col1\" >cudaStreamSynchronize</td>\n",
       "      <td id=\"T_71d87_row0_col2\" class=\"data row0 col2\" >238.050</td>\n",
       "    </tr>\n",
       "    <tr>\n",
       "      <th id=\"T_71d87_level0_row1\" class=\"row_heading level0 row1\" >1</th>\n",
       "      <td id=\"T_71d87_row1_col0\" class=\"data row1 col0\" >cuda_runtime</td>\n",
       "      <td id=\"T_71d87_row1_col1\" class=\"data row1 col1\" >cudaStreamSynchronize</td>\n",
       "      <td id=\"T_71d87_row1_col2\" class=\"data row1 col2\" >229.583</td>\n",
       "    </tr>\n",
       "    <tr>\n",
       "      <th id=\"T_71d87_level0_row2\" class=\"row_heading level0 row2\" >2</th>\n",
       "      <td id=\"T_71d87_row2_col0\" class=\"data row2 col0\" >cuda_runtime</td>\n",
       "      <td id=\"T_71d87_row2_col1\" class=\"data row2 col1\" >cudaStreamSynchronize</td>\n",
       "      <td id=\"T_71d87_row2_col2\" class=\"data row2 col2\" >206.788</td>\n",
       "    </tr>\n",
       "    <tr>\n",
       "      <th id=\"T_71d87_level0_row3\" class=\"row_heading level0 row3\" >3</th>\n",
       "      <td id=\"T_71d87_row3_col0\" class=\"data row3 col0\" >cuda_runtime</td>\n",
       "      <td id=\"T_71d87_row3_col1\" class=\"data row3 col1\" >cudaStreamSynchronize</td>\n",
       "      <td id=\"T_71d87_row3_col2\" class=\"data row3 col2\" >202.293</td>\n",
       "    </tr>\n",
       "    <tr>\n",
       "      <th id=\"T_71d87_level0_row4\" class=\"row_heading level0 row4\" >4</th>\n",
       "      <td id=\"T_71d87_row4_col0\" class=\"data row4 col0\" >cuda_runtime</td>\n",
       "      <td id=\"T_71d87_row4_col1\" class=\"data row4 col1\" >cudaLaunchKernel</td>\n",
       "      <td id=\"T_71d87_row4_col2\" class=\"data row4 col2\" >23.732</td>\n",
       "    </tr>\n",
       "    <tr>\n",
       "      <th id=\"T_71d87_level0_row5\" class=\"row_heading level0 row5\" >5</th>\n",
       "      <td id=\"T_71d87_row5_col0\" class=\"data row5 col0\" >cuda_runtime</td>\n",
       "      <td id=\"T_71d87_row5_col1\" class=\"data row5 col1\" >cudaLaunchKernel</td>\n",
       "      <td id=\"T_71d87_row5_col2\" class=\"data row5 col2\" >11.740</td>\n",
       "    </tr>\n",
       "    <tr>\n",
       "      <th id=\"T_71d87_level0_row6\" class=\"row_heading level0 row6\" >6</th>\n",
       "      <td id=\"T_71d87_row6_col0\" class=\"data row6 col0\" >cuda_runtime</td>\n",
       "      <td id=\"T_71d87_row6_col1\" class=\"data row6 col1\" >cudaLaunchKernel</td>\n",
       "      <td id=\"T_71d87_row6_col2\" class=\"data row6 col2\" >8.155</td>\n",
       "    </tr>\n",
       "    <tr>\n",
       "      <th id=\"T_71d87_level0_row7\" class=\"row_heading level0 row7\" >7</th>\n",
       "      <td id=\"T_71d87_row7_col0\" class=\"data row7 col0\" >kernel</td>\n",
       "      <td id=\"T_71d87_row7_col1\" class=\"data row7 col1\" >void cudnn::cnn::wgrad_alg0_engine<128, 5, 7, 3, 3, 5, false>(int, int, int, double const*, int, double*, double const*, kernel_grad_params, unsigned long long, int, double, int, int, int)</td>\n",
       "      <td id=\"T_71d87_row7_col2\" class=\"data row7 col2\" >4.168</td>\n",
       "    </tr>\n",
       "    <tr>\n",
       "      <th id=\"T_71d87_level0_row8\" class=\"row_heading level0 row8\" >8</th>\n",
       "      <td id=\"T_71d87_row8_col0\" class=\"data row8 col0\" >kernel</td>\n",
       "      <td id=\"T_71d87_row8_col1\" class=\"data row8 col1\" >void cudnn::cnn::wgrad_alg0_engine<128, 5, 7, 3, 3, 5, false>(int, int, int, double const*, int, double*, double const*, kernel_grad_params, unsigned long long, int, double, int, int, int)</td>\n",
       "      <td id=\"T_71d87_row8_col2\" class=\"data row8 col2\" >4.167</td>\n",
       "    </tr>\n",
       "    <tr>\n",
       "      <th id=\"T_71d87_level0_row9\" class=\"row_heading level0 row9\" >9</th>\n",
       "      <td id=\"T_71d87_row9_col0\" class=\"data row9 col0\" >kernel</td>\n",
       "      <td id=\"T_71d87_row9_col1\" class=\"data row9 col1\" >void cudnn::cnn::wgrad_alg0_engine<128, 5, 7, 3, 3, 5, false>(int, int, int, double const*, int, double*, double const*, kernel_grad_params, unsigned long long, int, double, int, int, int)</td>\n",
       "      <td id=\"T_71d87_row9_col2\" class=\"data row9 col2\" >3.185</td>\n",
       "    </tr>\n",
       "  </tbody>\n",
       "</table>\n"
      ],
      "text/plain": [
       "<pandas.io.formats.style.Styler at 0x7f54f5d51bd0>"
      ]
     },
     "metadata": {},
     "output_type": "display_data"
    }
   ],
   "source": [
    "# -------- configuration ------------------------------------------------------\n",
    "trace_path = tb_file      # or leave None and use trace_dict\n",
    "GPU_TAGS    = {\"kernel\", \"memcpy\", \"gpukernel\", \"cuda\"}  # tweak if needed\n",
    "# -----------------------------------------------------------------------------\n",
    "\n",
    "\n",
    "# --- 1. load -----------------------------------------------------------------\n",
    "import json, pandas as pd, pathlib, itertools, collections, math\n",
    "\n",
    "if trace_path is not None:\n",
    "    events = json.loads(pathlib.Path(trace_path).read_text())[\"traceEvents\"]\n",
    "else:                                     # reuse the big dict you printed\n",
    "    events = trace_dict[\"traceEvents\"]\n",
    "\n",
    "# keep only duration (“complete”) events\n",
    "events = [e for e in events if e.get(\"ph\") == \"X\" and \"dur\" in e]\n",
    "\n",
    "# --- 2. separate CPU vs GPU ---------------------------------------------------\n",
    "def is_gpu(e):\n",
    "    cat  = (e.get(\"cat\")  or \"\").lower()\n",
    "    name = (e.get(\"name\") or \"\").lower()\n",
    "    return any(tag in cat or tag in name for tag in GPU_TAGS)\n",
    "\n",
    "gpu_evts = [e for e in events if is_gpu(e)]\n",
    "cpu_evts = [e for e in events if not is_gpu(e)]\n",
    "\n",
    "# --- 3. quick diagnostics -----------------------------------------------------\n",
    "if not gpu_evts:\n",
    "    print(\"⚠️  No GPU events were recorded in this trace.\")\n",
    "    print(\"   • Did you enable ProfilerActivity.CUDA ?\")\n",
    "    print(\"   • Are you sure you loaded the *_CUDA* window, not CPU-only?\")\n",
    "else:\n",
    "    # total active span\n",
    "    t0 = min(e[\"ts\"] for e in events)\n",
    "    t1 = max(e[\"ts\"] + e[\"dur\"] for e in events)\n",
    "    span_us = (t1 - t0) / 1_000     # μs → ms\n",
    "\n",
    "    gpu_time = sum(e[\"dur\"] for e in gpu_evts) / 1_000\n",
    "    util_pct = 100 * gpu_time / span_us\n",
    "\n",
    "    print(f\"GPU active time : {gpu_time:,.1f} ms\")\n",
    "    print(f\"Trace span      : {span_us:,.1f} ms\")\n",
    "    print(f\"≈ Utilisation   : {util_pct:4.1f} %\")\n",
    "\n",
    "    # top-10 longest GPU kernels / memcpys\n",
    "    top = sorted(gpu_evts, key=lambda e: -e[\"dur\"])[:10]\n",
    "    df  = pd.DataFrame({\n",
    "        \"cat\":  [e[\"cat\"]  for e in top],\n",
    "        \"name\": [e[\"name\"] for e in top],\n",
    "        \"ms\":   [e[\"dur\"]/1_000 for e in top],\n",
    "    })\n",
    "    display(df.style.format({\"ms\": \"{:.3f}\"}))\n"
   ]
  },
  {
   "cell_type": "code",
   "execution_count": 25,
   "metadata": {},
   "outputs": [
    {
     "name": "stdout",
     "output_type": "stream",
     "text": [
      "The tensorboard extension is already loaded. To reload it, use:\n",
      "  %reload_ext tensorboard\n"
     ]
    }
   ],
   "source": [
    "%load_ext tensorboard"
   ]
  },
  {
   "cell_type": "code",
   "execution_count": 26,
   "metadata": {},
   "outputs": [
    {
     "data": {
      "text/plain": [
       "Reusing TensorBoard on port 6007 (pid 1915), started 0:00:19 ago. (Use '!kill 1915' to kill it.)"
      ]
     },
     "metadata": {},
     "output_type": "display_data"
    },
    {
     "data": {
      "text/html": [
       "\n",
       "      <iframe id=\"tensorboard-frame-93a9191bdca00177\" width=\"100%\" height=\"800\" frameborder=\"0\">\n",
       "      </iframe>\n",
       "      <script>\n",
       "        (function() {\n",
       "          const frame = document.getElementById(\"tensorboard-frame-93a9191bdca00177\");\n",
       "          const url = new URL(\"http://localhost\");\n",
       "          const port = 6007;\n",
       "          if (port) {\n",
       "            url.port = port;\n",
       "          }\n",
       "          frame.src = url;\n",
       "        })();\n",
       "      </script>\n",
       "    "
      ],
      "text/plain": [
       "<IPython.core.display.HTML object>"
      ]
     },
     "metadata": {},
     "output_type": "display_data"
    }
   ],
   "source": [
    "%tensorboard --logdir ../training/tb"
   ]
  },
  {
   "cell_type": "code",
   "execution_count": null,
   "metadata": {},
   "outputs": [],
   "source": []
  }
 ],
 "metadata": {
  "kernelspec": {
   "display_name": "Python 3",
   "language": "python",
   "name": "python3"
  },
  "language_info": {
   "codemirror_mode": {
    "name": "ipython",
    "version": 3
   },
   "file_extension": ".py",
   "mimetype": "text/x-python",
   "name": "python",
   "nbconvert_exporter": "python",
   "pygments_lexer": "ipython3",
   "version": "3.11.9"
  }
 },
 "nbformat": 4,
 "nbformat_minor": 2
}
